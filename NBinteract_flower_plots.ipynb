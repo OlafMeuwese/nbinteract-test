{
 "cells": [
  {
   "cell_type": "markdown",
   "metadata": {},
   "source": [
    "# An introduction into publishing your notebook"
   ]
  },
  {
   "cell_type": "code",
   "execution_count": 1,
   "metadata": {},
   "outputs": [],
   "source": [
    "#nbi:hide_in\n",
    "import numpy as np\n",
    "import pandas as pd\n",
    "from sklearn.model_selection import train_test_split\n",
    "from sklearn.datasets import load_iris\n",
    "from sklearn.tree import DecisionTreeClassifier\n",
    "from bqplot import pyplot as plt\n",
    "from ipywidgets import FloatSlider, widgets, interact_manual\n",
    "import itertools"
   ]
  },
  {
   "cell_type": "code",
   "execution_count": 2,
   "metadata": {},
   "outputs": [],
   "source": [
    "#nbi:hide_in\n",
    "\n",
    "iris = load_iris()\n",
    "X = iris.data\n",
    "y = iris.target\n",
    "X_train, X_test, y_train, y_test = train_test_split(X, y, random_state=0)\n",
    "estimator = DecisionTreeClassifier(max_leaf_nodes=3, random_state=0)\n",
    "estimator.fit(X_train, y_train);"
   ]
  },
  {
   "cell_type": "code",
   "execution_count": 3,
   "metadata": {},
   "outputs": [],
   "source": [
    "#nbi:hide_in\n",
    "df = pd.DataFrame(iris.data, columns=iris.feature_names)\n",
    "\n",
    "df['class'] = pd.Series(iris.target)"
   ]
  },
  {
   "cell_type": "code",
   "execution_count": 4,
   "metadata": {},
   "outputs": [],
   "source": [
    "#nbi:hide_in\n",
    "controls = {k:FloatSlider(min=0, max=10, step=0.01) for k in iris.feature_names}"
   ]
  },
  {
   "cell_type": "code",
   "execution_count": 5,
   "metadata": {},
   "outputs": [],
   "source": [
    "#nbi:hide_in\n",
    "colors = ['red', 'blue','green','black']\n",
    "\n",
    "color_d = {target: colors.pop() for target in df['class'].unique()}"
   ]
  },
  {
   "cell_type": "markdown",
   "metadata": {},
   "source": [
    "### Select the values of the input and see what it scores on the plots"
   ]
  },
  {
   "cell_type": "code",
   "execution_count": 6,
   "metadata": {},
   "outputs": [
    {
     "data": {
      "application/vnd.jupyter.widget-view+json": {
       "model_id": "a9e1beae64d34cf1bd7f5d720621209b",
       "version_major": 2,
       "version_minor": 0
      },
      "text/html": [
       "<p>Failed to display Jupyter Widget of type <code>interactive</code>.</p>\n",
       "<p>\n",
       "  If you're reading this message in the Jupyter Notebook or JupyterLab Notebook, it may mean\n",
       "  that the widgets JavaScript is still loading. If this message persists, it\n",
       "  likely means that the widgets JavaScript library is either not installed or\n",
       "  not enabled. See the <a href=\"https://ipywidgets.readthedocs.io/en/stable/user_install.html\">Jupyter\n",
       "  Widgets Documentation</a> for setup instructions.\n",
       "</p>\n",
       "<p>\n",
       "  If you're reading this message in another frontend (for example, a static\n",
       "  rendering on GitHub or <a href=\"https://nbviewer.jupyter.org/\">NBViewer</a>),\n",
       "  it may mean that your frontend doesn't currently support widgets.\n",
       "</p>\n"
      ],
      "text/plain": [
       "interactive(children=(FloatSlider(value=0.0, description='sepal length (cm)', max=10.0, step=0.01), FloatSlider(value=0.0, description='sepal width (cm)', max=10.0, step=0.01), FloatSlider(value=0.0, description='petal length (cm)', max=10.0, step=0.01), FloatSlider(value=0.0, description='petal width (cm)', max=10.0, step=0.01), Button(description='Run Interact', style=ButtonStyle()), Output()), _dom_classes=('widget-interact',))"
      ]
     },
     "metadata": {},
     "output_type": "display_data"
    }
   ],
   "source": [
    "#nbi:hide_in\n",
    "@interact_manual(**controls)\n",
    "def go(**kwargs):\n",
    "    figs = []\n",
    "    hboxes = []\n",
    "    counter = 0\n",
    "    for x, y in itertools.combinations(iris.feature_names,2):\n",
    "        if counter % 3 == 0 and counter != 0:\n",
    "            hboxes.append(widgets.HBox(figs))\n",
    "            figs.clear()\n",
    "        fig = plt.figure()\n",
    "        axes_options = {\"x\": {'label': x},\n",
    "                       \"y\": {\"label\": y}}\n",
    "\n",
    "        \n",
    "        x_values = df[x].values.tolist()+[kwargs[x]]\n",
    "        y_values = df[y].values.tolist()+[kwargs[y]]\n",
    "        plt.scatter(x_values, y_values , axes_options=axes_options,colors=[color_d[target] for target in df['class']]+['red'])\n",
    "        figs.append(fig)\n",
    "        counter += 1\n",
    "    else:\n",
    "        hboxes.append(widgets.HBox(figs))\n",
    "    \n",
    "    return widgets.VBox(hboxes)"
   ]
  },
  {
   "cell_type": "code",
   "execution_count": null,
   "metadata": {},
   "outputs": [],
   "source": []
  }
 ],
 "metadata": {
  "kernelspec": {
   "display_name": "Python 3",
   "language": "python",
   "name": "python3"
  },
  "language_info": {
   "codemirror_mode": {
    "name": "ipython",
    "version": 3
   },
   "file_extension": ".py",
   "mimetype": "text/x-python",
   "name": "python",
   "nbconvert_exporter": "python",
   "pygments_lexer": "ipython3",
   "version": "3.6.5"
  }
 },
 "nbformat": 4,
 "nbformat_minor": 2
}
