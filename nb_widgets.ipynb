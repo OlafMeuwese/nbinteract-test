{
 "cells": [
  {
   "cell_type": "code",
   "execution_count": 6,
   "metadata": {},
   "outputs": [],
   "source": [
    "import numpy\n",
    "import pandas\n",
    "from ipywidgets import interact, interactive, fixed, interact_manual\n",
    "import ipywidgets as widgets\n",
    "from __future__ import print_function"
   ]
  },
  {
   "cell_type": "markdown",
   "metadata": {},
   "source": [
    "1. NBViewer in docker container deployen (https://github.com/jupyter/nbviewer)\n",
    "1. Homepage creeeren waar published jupyter notebooks kunnen worden geselecteerd\n",
    "1. Upload structuur voor jupyter notebooks (files, data) >> stateless of statefull?"
   ]
  },
  {
   "cell_type": "code",
   "execution_count": 7,
   "metadata": {},
   "outputs": [
    {
     "data": {
      "application/vnd.jupyter.widget-view+json": {
       "model_id": "866f8220603947898d0bff9b43003948",
       "version_major": 2,
       "version_minor": 0
      },
      "text/plain": [
       "interactive(children=(IntSlider(value=10, description='x', max=30, min=-10), Button(description='Run Interact'…"
      ]
     },
     "metadata": {},
     "output_type": "display_data"
    }
   ],
   "source": [
    "@interact_manual(x=10)\n",
    "def f(x):\n",
    "    return x"
   ]
  },
  {
   "cell_type": "code",
   "execution_count": null,
   "metadata": {},
   "outputs": [],
   "source": []
  }
 ],
 "metadata": {
  "kernelspec": {
   "display_name": "Python 3",
   "language": "python",
   "name": "python3"
  },
  "language_info": {
   "codemirror_mode": {
    "name": "ipython",
    "version": 3
   },
   "file_extension": ".py",
   "mimetype": "text/x-python",
   "name": "python",
   "nbconvert_exporter": "python",
   "pygments_lexer": "ipython3",
   "version": "3.6.5"
  },
  "widgets": {
   "application/vnd.jupyter.widget-state+json": {
    "state": {
     "065f045f08aa49c1a416f931a9da38c8": {
      "model_module": "@jupyter-widgets/controls",
      "model_module_version": "1.2.0",
      "model_name": "SliderStyleModel",
      "state": {
       "description_width": ""
      }
     },
     "17afc61606364c58ad2897b9801cad98": {
      "model_module": "@jupyter-widgets/controls",
      "model_module_version": "1.2.0",
      "model_name": "ButtonStyleModel",
      "state": {}
     },
     "19a80523b4854870bd2a27387227e174": {
      "model_module": "@jupyter-widgets/controls",
      "model_module_version": "1.2.0",
      "model_name": "SliderStyleModel",
      "state": {
       "description_width": ""
      }
     },
     "1c0ea0b352634e0b9befebc7f7aba6a8": {
      "model_module": "@jupyter-widgets/controls",
      "model_module_version": "1.2.0",
      "model_name": "IntSliderModel",
      "state": {
       "description": "x",
       "layout": "IPY_MODEL_41f42afc2e804b179df98a8ce5898c45",
       "max": 30,
       "min": -10,
       "style": "IPY_MODEL_19a80523b4854870bd2a27387227e174",
       "value": 10
      }
     },
     "1d398bca24dc4104973d13e86b0af57e": {
      "model_module": "@jupyter-widgets/base",
      "model_module_version": "1.0.0",
      "model_name": "LayoutModel",
      "state": {}
     },
     "240e24cb2da24da583ab40f78a60c3a9": {
      "model_module": "@jupyter-widgets/controls",
      "model_module_version": "1.2.0",
      "model_name": "SliderStyleModel",
      "state": {
       "description_width": ""
      }
     },
     "2885c152b98c42d5b2458ad3df5d31d8": {
      "model_module": "@jupyter-widgets/base",
      "model_module_version": "1.0.0",
      "model_name": "LayoutModel",
      "state": {}
     },
     "36640739b6824e1fa735affb27a840d3": {
      "model_module": "@jupyter-widgets/output",
      "model_module_version": "1.0.0",
      "model_name": "OutputModel",
      "state": {
       "layout": "IPY_MODEL_fa5c4f9b7de44e0f830c9b7a81540a47"
      }
     },
     "3a4f5973cca64182bf009189bd4fbe06": {
      "model_module": "@jupyter-widgets/base",
      "model_module_version": "1.0.0",
      "model_name": "LayoutModel",
      "state": {}
     },
     "3a4f93fdc3e04d39aabde4db0f5c2264": {
      "model_module": "@jupyter-widgets/controls",
      "model_module_version": "1.2.0",
      "model_name": "ButtonModel",
      "state": {
       "description": "Run Interact",
       "layout": "IPY_MODEL_9facc2f038a445f49c077dcf0e7b5c43",
       "style": "IPY_MODEL_df0ae57e5e59490099dd16812cd5a9de"
      }
     },
     "40834cd702734f7ca696367cb04b7ae6": {
      "model_module": "@jupyter-widgets/controls",
      "model_module_version": "1.2.0",
      "model_name": "SliderStyleModel",
      "state": {
       "description_width": ""
      }
     },
     "40a5919ff1c2400a9011043f9236816a": {
      "model_module": "@jupyter-widgets/base",
      "model_module_version": "1.0.0",
      "model_name": "LayoutModel",
      "state": {}
     },
     "41f42afc2e804b179df98a8ce5898c45": {
      "model_module": "@jupyter-widgets/base",
      "model_module_version": "1.0.0",
      "model_name": "LayoutModel",
      "state": {}
     },
     "4ae65243fc92474caca94c6271d43718": {
      "model_module": "@jupyter-widgets/output",
      "model_module_version": "1.0.0",
      "model_name": "OutputModel",
      "state": {
       "layout": "IPY_MODEL_ca0703db37bc4355b01b6bd4f4b8f0a8"
      }
     },
     "525a4afa021d4efe89c6930ca87f68ab": {
      "model_module": "@jupyter-widgets/controls",
      "model_module_version": "1.2.0",
      "model_name": "ButtonModel",
      "state": {
       "description": "Run Interact",
       "layout": "IPY_MODEL_5c4fd07913254c38943d30867e7f7d7d",
       "style": "IPY_MODEL_17afc61606364c58ad2897b9801cad98"
      }
     },
     "55ab5fddca4840dab806414a26e52ba9": {
      "model_module": "@jupyter-widgets/controls",
      "model_module_version": "1.2.0",
      "model_name": "ButtonModel",
      "state": {
       "description": "Run Interact",
       "layout": "IPY_MODEL_bf53ec9a9bce4553aebfa99db644a470",
       "style": "IPY_MODEL_8d2de68b42d34ee3a483dd73b4a9ddbb"
      }
     },
     "5c4fd07913254c38943d30867e7f7d7d": {
      "model_module": "@jupyter-widgets/base",
      "model_module_version": "1.0.0",
      "model_name": "LayoutModel",
      "state": {}
     },
     "5e48a8873ddd45678e8a98b78f6e4c6b": {
      "model_module": "@jupyter-widgets/controls",
      "model_module_version": "1.2.0",
      "model_name": "IntSliderModel",
      "state": {
       "description": "x",
       "layout": "IPY_MODEL_9256675213e7424986b93c4a5d6e6008",
       "max": 30,
       "min": -10,
       "style": "IPY_MODEL_065f045f08aa49c1a416f931a9da38c8",
       "value": 10
      }
     },
     "5f725ff9d60e4dd9971c5589c444d6aa": {
      "model_module": "@jupyter-widgets/controls",
      "model_module_version": "1.2.0",
      "model_name": "ButtonModel",
      "state": {
       "description": "Run Interact",
       "layout": "IPY_MODEL_a2bbf10fcfdc44d99e5fde457a9d2f9f",
       "style": "IPY_MODEL_5fe885e41ab143c0b631dd257c636fef"
      }
     },
     "5fe885e41ab143c0b631dd257c636fef": {
      "model_module": "@jupyter-widgets/controls",
      "model_module_version": "1.2.0",
      "model_name": "ButtonStyleModel",
      "state": {}
     },
     "7e38d9385c2d41ccbac5d7d068fae861": {
      "model_module": "@jupyter-widgets/controls",
      "model_module_version": "1.2.0",
      "model_name": "VBoxModel",
      "state": {
       "_dom_classes": [
        "widget-interact"
       ],
       "children": [
        "IPY_MODEL_a6bd6faa1b5548968bcb3a880e8b7a7e",
        "IPY_MODEL_5f725ff9d60e4dd9971c5589c444d6aa",
        "IPY_MODEL_4ae65243fc92474caca94c6271d43718"
       ],
       "layout": "IPY_MODEL_99adfe7fd2894ae39eb2d3ad65f46bfa"
      }
     },
     "866f8220603947898d0bff9b43003948": {
      "model_module": "@jupyter-widgets/controls",
      "model_module_version": "1.2.0",
      "model_name": "VBoxModel",
      "state": {
       "_dom_classes": [
        "widget-interact"
       ],
       "children": [
        "IPY_MODEL_1c0ea0b352634e0b9befebc7f7aba6a8",
        "IPY_MODEL_3a4f93fdc3e04d39aabde4db0f5c2264",
        "IPY_MODEL_dcaf434599314f3090aea4c9179ee1a4"
       ],
       "layout": "IPY_MODEL_40a5919ff1c2400a9011043f9236816a"
      }
     },
     "8d2de68b42d34ee3a483dd73b4a9ddbb": {
      "model_module": "@jupyter-widgets/controls",
      "model_module_version": "1.2.0",
      "model_name": "ButtonStyleModel",
      "state": {}
     },
     "9256675213e7424986b93c4a5d6e6008": {
      "model_module": "@jupyter-widgets/base",
      "model_module_version": "1.0.0",
      "model_name": "LayoutModel",
      "state": {}
     },
     "99adfe7fd2894ae39eb2d3ad65f46bfa": {
      "model_module": "@jupyter-widgets/base",
      "model_module_version": "1.0.0",
      "model_name": "LayoutModel",
      "state": {}
     },
     "9facc2f038a445f49c077dcf0e7b5c43": {
      "model_module": "@jupyter-widgets/base",
      "model_module_version": "1.0.0",
      "model_name": "LayoutModel",
      "state": {}
     },
     "a2bbf10fcfdc44d99e5fde457a9d2f9f": {
      "model_module": "@jupyter-widgets/base",
      "model_module_version": "1.0.0",
      "model_name": "LayoutModel",
      "state": {}
     },
     "a6bd6faa1b5548968bcb3a880e8b7a7e": {
      "model_module": "@jupyter-widgets/controls",
      "model_module_version": "1.2.0",
      "model_name": "IntSliderModel",
      "state": {
       "description": "x",
       "layout": "IPY_MODEL_1d398bca24dc4104973d13e86b0af57e",
       "max": 30,
       "min": -10,
       "style": "IPY_MODEL_40834cd702734f7ca696367cb04b7ae6",
       "value": 10
      }
     },
     "aa0ca277bab44b618d49ba143f808179": {
      "model_module": "@jupyter-widgets/output",
      "model_module_version": "1.0.0",
      "model_name": "OutputModel",
      "state": {
       "layout": "IPY_MODEL_c2db2d6994a2444889cd9a869323dacf",
       "outputs": [
        {
         "data": {
          "text/plain": "10"
         },
         "metadata": {},
         "output_type": "display_data"
        }
       ]
      }
     },
     "bf53ec9a9bce4553aebfa99db644a470": {
      "model_module": "@jupyter-widgets/base",
      "model_module_version": "1.0.0",
      "model_name": "LayoutModel",
      "state": {}
     },
     "c2db2d6994a2444889cd9a869323dacf": {
      "model_module": "@jupyter-widgets/base",
      "model_module_version": "1.0.0",
      "model_name": "LayoutModel",
      "state": {}
     },
     "ca0703db37bc4355b01b6bd4f4b8f0a8": {
      "model_module": "@jupyter-widgets/base",
      "model_module_version": "1.0.0",
      "model_name": "LayoutModel",
      "state": {}
     },
     "dcaf434599314f3090aea4c9179ee1a4": {
      "model_module": "@jupyter-widgets/output",
      "model_module_version": "1.0.0",
      "model_name": "OutputModel",
      "state": {
       "layout": "IPY_MODEL_3a4f5973cca64182bf009189bd4fbe06"
      }
     },
     "df0ae57e5e59490099dd16812cd5a9de": {
      "model_module": "@jupyter-widgets/controls",
      "model_module_version": "1.2.0",
      "model_name": "ButtonStyleModel",
      "state": {}
     },
     "ef07aaa2c4ad4314acd204a2e813a276": {
      "model_module": "@jupyter-widgets/base",
      "model_module_version": "1.0.0",
      "model_name": "LayoutModel",
      "state": {}
     },
     "f103cf6ff146457fa96e7baf3692581c": {
      "model_module": "@jupyter-widgets/controls",
      "model_module_version": "1.2.0",
      "model_name": "IntSliderModel",
      "state": {
       "description": "x",
       "layout": "IPY_MODEL_ef07aaa2c4ad4314acd204a2e813a276",
       "max": 30,
       "min": -10,
       "style": "IPY_MODEL_240e24cb2da24da583ab40f78a60c3a9",
       "value": 10
      }
     },
     "f5515b9d4cf24d5aabe063e4c307b7bc": {
      "model_module": "@jupyter-widgets/base",
      "model_module_version": "1.0.0",
      "model_name": "LayoutModel",
      "state": {}
     },
     "f6ccdf16c5374f6dbebb16deffd21dff": {
      "model_module": "@jupyter-widgets/controls",
      "model_module_version": "1.2.0",
      "model_name": "VBoxModel",
      "state": {
       "_dom_classes": [
        "widget-interact"
       ],
       "children": [
        "IPY_MODEL_f103cf6ff146457fa96e7baf3692581c",
        "IPY_MODEL_55ab5fddca4840dab806414a26e52ba9",
        "IPY_MODEL_aa0ca277bab44b618d49ba143f808179"
       ],
       "layout": "IPY_MODEL_2885c152b98c42d5b2458ad3df5d31d8"
      }
     },
     "fa5c4f9b7de44e0f830c9b7a81540a47": {
      "model_module": "@jupyter-widgets/base",
      "model_module_version": "1.0.0",
      "model_name": "LayoutModel",
      "state": {}
     },
     "fb7160af95c8473684714ccf07f0d756": {
      "model_module": "@jupyter-widgets/controls",
      "model_module_version": "1.2.0",
      "model_name": "VBoxModel",
      "state": {
       "_dom_classes": [
        "widget-interact"
       ],
       "children": [
        "IPY_MODEL_5e48a8873ddd45678e8a98b78f6e4c6b",
        "IPY_MODEL_525a4afa021d4efe89c6930ca87f68ab",
        "IPY_MODEL_36640739b6824e1fa735affb27a840d3"
       ],
       "layout": "IPY_MODEL_f5515b9d4cf24d5aabe063e4c307b7bc"
      }
     }
    },
    "version_major": 2,
    "version_minor": 0
   }
  }
 },
 "nbformat": 4,
 "nbformat_minor": 2
}
