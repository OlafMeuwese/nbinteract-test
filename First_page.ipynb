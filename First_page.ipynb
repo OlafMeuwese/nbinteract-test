{
 "cells": [
  {
   "cell_type": "markdown",
   "metadata": {},
   "source": [
    "# The title"
   ]
  },
  {
   "cell_type": "code",
   "execution_count": 1,
   "metadata": {},
   "outputs": [],
   "source": [
    "import numpy as np\n",
    "import nbinteract as nbi"
   ]
  },
  {
   "cell_type": "code",
   "execution_count": 2,
   "metadata": {},
   "outputs": [],
   "source": [
    "def gomperts(xs, a,b,c):\n",
    "    return [a*np.e**(-b*np.e**(-c*x)) for x in xs]"
   ]
  },
  {
   "cell_type": "markdown",
   "metadata": {},
   "source": [
    "Markdown in the middle"
   ]
  },
  {
   "cell_type": "code",
   "execution_count": 3,
   "metadata": {},
   "outputs": [
    {
     "data": {
      "application/vnd.jupyter.widget-view+json": {
       "model_id": "1096f4e559624c98b0a992b344cdcf93",
       "version_major": 2,
       "version_minor": 0
      },
      "text/plain": [
       "VBox(children=(interactive(children=(IntSlider(value=2, description='a', max=5), FloatSlider(value=0.0, descri…"
      ]
     },
     "metadata": {},
     "output_type": "display_data"
    }
   ],
   "source": [
    "nbi.line(range(100), gomperts, a=(0,5), b=(-1,1.00), c=(0,1.0), options={'xlim': (-2,100),'ylim': (0, 15)})"
   ]
  },
  {
   "cell_type": "code",
   "execution_count": null,
   "metadata": {},
   "outputs": [],
   "source": []
  }
 ],
 "metadata": {
  "kernelspec": {
   "display_name": "Python 3",
   "language": "python",
   "name": "python3"
  },
  "language_info": {
   "codemirror_mode": {
    "name": "ipython",
    "version": 3
   },
   "file_extension": ".py",
   "mimetype": "text/x-python",
   "name": "python",
   "nbconvert_exporter": "python",
   "pygments_lexer": "ipython3",
   "version": "3.6.5"
  },
  "widgets": {
   "application/vnd.jupyter.widget-state+json": {
    "state": {
     "055ce836aa6c45148ffdb691930070ef": {
      "model_module": "@jupyter-widgets/output",
      "model_module_version": "1.0.0",
      "model_name": "OutputModel",
      "state": {
       "layout": "IPY_MODEL_e021e60f729c4cb482d1328bee5a04c2"
      }
     },
     "08e9643518364d8e99f7a57068569530": {
      "model_module": "bqplot",
      "model_module_version": "^0.4.1",
      "model_name": "AxisModel",
      "state": {
       "orientation": "vertical",
       "scale": "IPY_MODEL_f228f34328804476acd555130ffa55e7",
       "side": "left",
       "tick_values": {
        "type": null,
        "values": null
       }
      }
     },
     "0bf9d0237b53484d9c2c5abc7c0e1777": {
      "model_module": "@jupyter-widgets/base",
      "model_module_version": "1.0.0",
      "model_name": "LayoutModel",
      "state": {}
     },
     "1096f4e559624c98b0a992b344cdcf93": {
      "model_module": "@jupyter-widgets/controls",
      "model_module_version": "1.2.0",
      "model_name": "VBoxModel",
      "state": {
       "children": [
        "IPY_MODEL_8fa9a984a9114ee7a6beaae787acfc50",
        "IPY_MODEL_470e1e72edcd4cc29908151352d5e138"
       ],
       "layout": "IPY_MODEL_c2112b3b58a343da8eadf40b3b7487c4"
      }
     },
     "1d8eb431afbf4fc4a02ab6600af9c55f": {
      "model_module": "@jupyter-widgets/base",
      "model_module_version": "1.0.0",
      "model_name": "LayoutModel",
      "state": {}
     },
     "2c91b2f25cca40a3b959bf9dcf8767e6": {
      "model_module": "@jupyter-widgets/controls",
      "model_module_version": "1.2.0",
      "model_name": "IntSliderModel",
      "state": {
       "description": "a",
       "layout": "IPY_MODEL_0bf9d0237b53484d9c2c5abc7c0e1777",
       "max": 5,
       "style": "IPY_MODEL_98ef288889184ca2842458ab14e4b798",
       "value": 4
      }
     },
     "39febd8be17c4f2e9ae1fb23b72b4a3a": {
      "model_module": "@jupyter-widgets/base",
      "model_module_version": "1.0.0",
      "model_name": "LayoutModel",
      "state": {}
     },
     "470e1e72edcd4cc29908151352d5e138": {
      "model_module": "bqplot",
      "model_module_version": "^0.4.1",
      "model_name": "FigureModel",
      "state": {
       "_dom_classes": [],
       "axes": [
        "IPY_MODEL_b48a075f0c224677930ca846d2fc9728",
        "IPY_MODEL_08e9643518364d8e99f7a57068569530"
       ],
       "layout": "IPY_MODEL_e008759d11fa4b10a78027a91f674fe0",
       "marks": [
        "IPY_MODEL_9264c87b8a484450b236033d9875903b"
       ],
       "max_aspect_ratio": 6,
       "scale_x": "IPY_MODEL_6861d2712c43489a911baececc90361f",
       "scale_y": "IPY_MODEL_56f405f8086b4304a22b657807e842cd"
      }
     },
     "4ece218209824b83b96272a42df61ef9": {
      "model_module": "bqplot",
      "model_module_version": "^0.4.1",
      "model_name": "LinearScaleModel",
      "state": {
       "max": 100,
       "min": -2,
       "stabilized": false
      }
     },
     "50876595747044b1b872c16ef0593398": {
      "model_module": "@jupyter-widgets/controls",
      "model_module_version": "1.2.0",
      "model_name": "FloatSliderModel",
      "state": {
       "description": "b",
       "layout": "IPY_MODEL_1d8eb431afbf4fc4a02ab6600af9c55f",
       "max": 1,
       "min": -1,
       "step": 0.1,
       "style": "IPY_MODEL_c6382d5d7be44207972c3b7927784328",
       "value": 0.6
      }
     },
     "56f405f8086b4304a22b657807e842cd": {
      "model_module": "bqplot",
      "model_module_version": "^0.4.1",
      "model_name": "LinearScaleModel",
      "state": {
       "allow_padding": false,
       "max": 1,
       "min": 0,
       "stabilized": false
      }
     },
     "6861d2712c43489a911baececc90361f": {
      "model_module": "bqplot",
      "model_module_version": "^0.4.1",
      "model_name": "LinearScaleModel",
      "state": {
       "allow_padding": false,
       "max": 1,
       "min": 0,
       "stabilized": false
      }
     },
     "8fa9a984a9114ee7a6beaae787acfc50": {
      "model_module": "@jupyter-widgets/controls",
      "model_module_version": "1.2.0",
      "model_name": "VBoxModel",
      "state": {
       "_dom_classes": [
        "widget-interact"
       ],
       "children": [
        "IPY_MODEL_2c91b2f25cca40a3b959bf9dcf8767e6",
        "IPY_MODEL_50876595747044b1b872c16ef0593398",
        "IPY_MODEL_b591f1315df7488a839f7a2a98039b8c",
        "IPY_MODEL_055ce836aa6c45148ffdb691930070ef"
       ],
       "layout": "IPY_MODEL_39febd8be17c4f2e9ae1fb23b72b4a3a"
      }
     },
     "9264c87b8a484450b236033d9875903b": {
      "model_module": "bqplot",
      "model_module_version": "^0.4.1",
      "model_name": "LinesModel",
      "state": {
       "color": {
        "type": null,
        "values": null
       },
       "colors": [
        "#475A77"
       ],
       "display_legend": false,
       "fill_colors": [],
       "labels": [
        "C1"
       ],
       "scales": {
        "x": "IPY_MODEL_4ece218209824b83b96272a42df61ef9",
        "y": "IPY_MODEL_f228f34328804476acd555130ffa55e7"
       },
       "selected": [],
       "x": {
        "type": "float",
        "values": [
         0,
         1,
         2,
         3,
         4,
         5,
         6,
         7,
         8,
         9,
         10,
         11,
         12,
         13,
         14,
         15,
         16,
         17,
         18,
         19,
         20,
         21,
         22,
         23,
         24,
         25,
         26,
         27,
         28,
         29,
         30,
         31,
         32,
         33,
         34,
         35,
         36,
         37,
         38,
         39,
         40,
         41,
         42,
         43,
         44,
         45,
         46,
         47,
         48,
         49,
         50,
         51,
         52,
         53,
         54,
         55,
         56,
         57,
         58,
         59,
         60,
         61,
         62,
         63,
         64,
         65,
         66,
         67,
         68,
         69,
         70,
         71,
         72,
         73,
         74,
         75,
         76,
         77,
         78,
         79,
         80,
         81,
         82,
         83,
         84,
         85,
         86,
         87,
         88,
         89,
         90,
         91,
         92,
         93,
         94,
         95,
         96,
         97,
         98,
         99
        ]
       },
       "y": {
        "type": "float",
        "values": [
         2.195246544376106,
         2.564602327806362,
         2.8777460881344634,
         3.134132951304861,
         3.3386877279870606,
         3.4987867482055797,
         3.622321172363309,
         3.7166417462403567,
         3.7880962687825677,
         3.8419154351668907,
         3.8822780983985568,
         3.912452677866559,
         3.9349576823803014,
         3.9517132310224525,
         3.964172035624317,
         3.973427066277582,
         3.9802972916073975,
         3.9853945382690426,
         3.9891748801215843,
         3.9919777382596644,
         3.994055416416593,
         3.99559529549469,
         3.9967364487803017,
         3.9975820460775755,
         3.9982085953210444,
         3.9986728177369546,
         3.999016756916126,
         3.9992715724025096,
         3.999460354827359,
         3.9996002140335634,
         3.9997038274355066,
         3.999780587862383,
         3.999837454335148,
         3.999879582575646,
         3.999910792229926,
         3.999933913067502,
         3.9999510414914328,
         3.9999637305872673,
         3.9999731309266218,
         3.999980094883541,
         3.999985253917533,
         3.9999890758282057,
         3.999991907171625,
         3.999994004683711,
         3.9999955585595917,
         3.999996709699546,
         3.999997562485212,
         3.9999981942444895,
         3.9999986622633377,
         3.999999008980263,
         3.9999992658344983,
         3.9999994561168064,
         3.999999597081413,
         3.9999997015105655,
         3.999999778873586,
         3.9999998361855225,
         3.9999998786432496,
         3.9999999100967076,
         3.9999999333980027,
         3.999999950660027,
         3.9999999634480488,
         3.9999999729216484,
         3.999999979939864,
         3.9999999851390857,
         3.999999988990764,
         3.9999999918441573,
         3.999999993958003,
         3.9999999955239787,
         3.999999996684082,
         3.999999997543507,
         3.9999999981801855,
         3.999999998651848,
         3.9999999990012647,
         3.9999999992601185,
         3.9999999994518824,
         3.9999999995939444,
         3.999999999699187,
         3.999999999777152,
         3.9999999998349103,
         3.9999999998776983,
         3.999999999909397,
         3.9999999999328795,
         3.9999999999502758,
         3.9999999999631637,
         3.9999999999727107,
         3.9999999999797837,
         3.9999999999850235,
         3.999999999988905,
         3.999999999991781,
         3.999999999993911,
         3.999999999995489,
         3.9999999999966582,
         3.999999999997524,
         3.999999999998166,
         3.9999999999986415,
         3.9999999999989937,
         3.9999999999992544,
         3.9999999999994476,
         3.999999999999591,
         3.9999999999996967
        ]
       }
      }
     },
     "98ef288889184ca2842458ab14e4b798": {
      "model_module": "@jupyter-widgets/controls",
      "model_module_version": "1.2.0",
      "model_name": "SliderStyleModel",
      "state": {
       "description_width": ""
      }
     },
     "ada065439aae4d1585bc36c094f9bd7d": {
      "model_module": "@jupyter-widgets/controls",
      "model_module_version": "1.2.0",
      "model_name": "SliderStyleModel",
      "state": {
       "description_width": ""
      }
     },
     "b48a075f0c224677930ca846d2fc9728": {
      "model_module": "bqplot",
      "model_module_version": "^0.4.1",
      "model_name": "AxisModel",
      "state": {
       "scale": "IPY_MODEL_4ece218209824b83b96272a42df61ef9",
       "side": "bottom",
       "tick_values": {
        "type": null,
        "values": null
       }
      }
     },
     "b591f1315df7488a839f7a2a98039b8c": {
      "model_module": "@jupyter-widgets/controls",
      "model_module_version": "1.2.0",
      "model_name": "FloatSliderModel",
      "state": {
       "description": "c",
       "layout": "IPY_MODEL_fc9513d8a94b4d62998cc639ae7328e7",
       "max": 1,
       "step": 0.1,
       "style": "IPY_MODEL_ada065439aae4d1585bc36c094f9bd7d",
       "value": 0.3
      }
     },
     "c2112b3b58a343da8eadf40b3b7487c4": {
      "model_module": "@jupyter-widgets/base",
      "model_module_version": "1.0.0",
      "model_name": "LayoutModel",
      "state": {}
     },
     "c6382d5d7be44207972c3b7927784328": {
      "model_module": "@jupyter-widgets/controls",
      "model_module_version": "1.2.0",
      "model_name": "SliderStyleModel",
      "state": {
       "description_width": ""
      }
     },
     "e008759d11fa4b10a78027a91f674fe0": {
      "model_module": "@jupyter-widgets/base",
      "model_module_version": "1.0.0",
      "model_name": "LayoutModel",
      "state": {
       "min_width": "125px"
      }
     },
     "e021e60f729c4cb482d1328bee5a04c2": {
      "model_module": "@jupyter-widgets/base",
      "model_module_version": "1.0.0",
      "model_name": "LayoutModel",
      "state": {}
     },
     "f228f34328804476acd555130ffa55e7": {
      "model_module": "bqplot",
      "model_module_version": "^0.4.1",
      "model_name": "LinearScaleModel",
      "state": {
       "max": 15,
       "min": 0,
       "stabilized": false
      }
     },
     "fc9513d8a94b4d62998cc639ae7328e7": {
      "model_module": "@jupyter-widgets/base",
      "model_module_version": "1.0.0",
      "model_name": "LayoutModel",
      "state": {}
     }
    },
    "version_major": 2,
    "version_minor": 0
   }
  }
 },
 "nbformat": 4,
 "nbformat_minor": 2
}
